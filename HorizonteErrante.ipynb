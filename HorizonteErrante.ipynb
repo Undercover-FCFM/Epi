{
  "nbformat": 4,
  "nbformat_minor": 0,
  "metadata": {
    "colab": {
      "provenance": [],
      "include_colab_link": true
    },
    "kernelspec": {
      "name": "python3",
      "display_name": "Python 3"
    },
    "language_info": {
      "name": "python"
    }
  },
  "cells": [
    {
      "cell_type": "markdown",
      "metadata": {
        "id": "view-in-github",
        "colab_type": "text"
      },
      "source": [
        "<a href=\"https://colab.research.google.com/github/Undercover-FCFM/Epi/blob/main/HorizonteErrante.ipynb\" target=\"_parent\"><img src=\"https://colab.research.google.com/assets/colab-badge.svg\" alt=\"Open In Colab\"/></a>"
      ]
    },
    {
      "cell_type": "code",
      "source": [
        "from google.colab import drive #Para montar su drive y que puedan leer los datos\n",
        "drive.mount('/content/drive')"
      ],
      "metadata": {
        "colab": {
          "base_uri": "https://localhost:8080/"
        },
        "id": "H5L4zQjIznn3",
        "outputId": "0608eaed-e511-48e8-9c6f-d40c7966d9a6"
      },
      "execution_count": null,
      "outputs": [
        {
          "output_type": "stream",
          "name": "stdout",
          "text": [
            "Mounted at /content/drive\n"
          ]
        }
      ]
    },
    {
      "cell_type": "code",
      "source": [
        "from google.colab import drive\n",
        "import os\n",
        "from google.colab import auth\n",
        "from googleapiclient.discovery import build\n",
        "# Enter the ID of the folder where the CSV file is located\n",
        "folder_id = '1ko9YQpYx6S_TZHodSdXNQZvDwIwO7cF5'"
      ],
      "metadata": {
        "id": "XPpONIoP4KYA"
      },
      "execution_count": null,
      "outputs": []
    },
    {
      "cell_type": "code",
      "source": [
        "archivo_de_datos = \"/content/drive/MyDrive/Colab Notebooks/Datos Epidemias/Puebla_pos.csv\" #Aqui cambian a la ruta de donde tengan el archvio de datos en drive"
      ],
      "metadata": {
        "id": "5lVcGUOm0YGI"
      },
      "execution_count": null,
      "outputs": []
    },
    {
      "cell_type": "markdown",
      "source": [
        "Funciones de Utilidad:"
      ],
      "metadata": {
        "id": "fejkYgUplNC2"
      }
    },
    {
      "cell_type": "code",
      "execution_count": null,
      "metadata": {
        "id": "3dEtgzCX9513"
      },
      "outputs": [],
      "source": [
        "import numpy as np\n",
        "import pandas as pd\n",
        "from scipy.optimize import minimize\n",
        "import matplotlib.pyplot as plt\n",
        "from scipy.integrate import odeint\n",
        "from scipy.integrate import solve_ivp\n",
        "from scipy import optimize\n",
        "\n",
        "\n",
        "########## Carga datos ####\n",
        "def load_data(size=658,file='Puebla_pos.csv'):  #good for 47 intervals (14 days each inteval)\n",
        "    df=pd.read_csv(file)\n",
        "    d=np.array(df['positivo'])\n",
        "    d1=d[:size]\n",
        "    d_cumulative = np.cumsum(d1)\n",
        "    return d1,d_cumulative\n",
        "\n",
        "#### Grafica datos ####\n",
        "def plot_data(data):\n",
        "    plt.style.use('ggplot')\n",
        "    #casosp=np.shape(casos) (casos)\n",
        "    fig, (ax1) = plt.subplots(figsize=(10,6))\n",
        "    ax1.set_title('People infected with Covid-19, Puebla')\n",
        "    ax1.plot(range(len(data)),data,'r.')\n",
        "    ax1.set_xlabel('Time (Days)')\n",
        "    ax1.set_ylabel('Number (Persons)')\n",
        "    plt.show()\n",
        "\n",
        "### define modelo seaird con los parametros dados\n",
        "def set_seaird(beta,gamma,sigma,eta,alpha,mu=0):\n",
        "    def seaird(t,y):\n",
        "        S,E,A,I,R,D,C = y\n",
        "        N=S+E+A+I+R+D\n",
        "        dSdt = -beta*(S * E/N - S*A/N- eta*S*I/N)\n",
        "        dEdt = beta*S*E/N+beta*S*A/N+beta*eta*S*I/N-sigma*E\n",
        "        dAdt = alpha*sigma*E-gamma*A\n",
        "        dIdt = (1.-alpha)*sigma*E - gamma * I\n",
        "        dRdt = gamma *(A+(1.-mu)*I)\n",
        "        dDdt = gamma*mu*I\n",
        "        dCdt = (1.-alpha)*sigma*E\n",
        "        return np.array([dSdt, dEdt, dAdt, dIdt, dRdt, dDdt, dCdt])\n",
        "    return seaird\n",
        "\n",
        "### Ajusta el modelo en partes. El ajuste es sobre casos acumulados ###\n",
        "## parametros:\n",
        "# cum_data : datos de casos acumulados\n",
        "# S0 : poblacion de suseptibles inicial o total de la poblacion \n",
        "# plot=True : genera graficas del ajuste\n",
        "# DT=14 : Numero de dias por tramo para hacer el ajuste. Default 14 sigifica toma 7 en el pasado y 7 en el futuro para hacer el ajuste del intervalo intermedio de 14 dias\n",
        "# es decir, toma 28 dias para ajustar pero le asigna el valor de los parametros a los 14 dias intermedios\n",
        " \n",
        "def fit_in_parts(cum_data,S0=6000000., plot=True,*,DT=14):\n",
        "    d1_cumulative = cum_data\n",
        "\n",
        "    def Cumulative_part(t,beta,gamma,sigma,eta,alpha):  # Se define el modelo y queremos solo ajustar la parte de casos acumulados. \n",
        "        seaird = set_seaird(beta,gamma,sigma,eta,alpha,0.)\n",
        "        #sol = solve_ivp(seaird,[t[0],t[-1]+1],y0,t_eval=t)\n",
        "        #return sol.y[6]\n",
        "        sol = odeint(seaird,y0,t,tfirst=True)  #Notar que y0 es un parametro libre que toma del entorno externo\n",
        "        return sol[:,6]\n",
        "\n",
        "    params_guess = [0.339909294,1.63162822e-01,3.62560733e+00,6.54907933e-01,4.49961836e-02]\n",
        "\n",
        "    \n",
        "    ti = 0\n",
        "    tf = DT\n",
        "    E0,A0,I0,R0,D0,C0 = 0.,0.,1.,0.,0.,1.\n",
        "    y0=[S0,E0,A0,I0,R0,D0,C0]\n",
        "    overlap=0  #En el primer intervalo no podemos tomar datos en el pasado para el ajuste\n",
        "    overlap_f=int(DT/2) #Numero de datos en el futuro para ajustar\n",
        "    final_data = len(cum_data)%DT\n",
        "    n_intervals = int(len(cum_data)/DT)\n",
        "\n",
        "    y0_interval=y0 # condicion inicial para realizar el ajuste y en el primer intervalo para graficar\n",
        "    \n",
        "    for i in range(n_intervals):\n",
        "        data = d1_cumulative[ti-overlap:tf+overlap_f] #Se toman los datos tomando en cuenta el overlap del pasado y futuro para el ajuste\n",
        "        t = np.arange(ti-overlap,tf+overlap_f)\n",
        "        popt, pcov = optimize.curve_fit(Cumulative_part, t, data, params_guess,bounds=(0,[10,10,10,10,1.]),maxfev=5000)\n",
        "        seaird = set_seaird(*popt) #definimos el modelo seird con los parametros ajustados para poder graficar\n",
        "        sol = solve_ivp(seaird,[ti,tf],y0_interval,t_eval=range(ti,tf+1)) #resolvemos el modelo en este intervalo de tiempo\n",
        "        if (plot==True):\n",
        "            plt.plot(sol.t,sol.y[6]) #graficamos este pedazo de tiempo\n",
        "            plt.xlabel('Time (Days)')\n",
        "            plt.ylabel('Cumulative Infected')\n",
        "        if (i==0):\n",
        "            evolution = sol.y.copy() # podemos ir guardando la evolucion total (primera iteracion creamos el vector np)\n",
        "            global_time = sol.t.copy()\n",
        "            params = [popt.copy()] #guardamos en lista los parametros del periodo\n",
        "            init_times = [ti] #guardamos los tiempos de inicio para esos parametros\n",
        "        else:\n",
        "            evolution = np.append(evolution,sol.y[:,1:],axis=1) # podemos ir guardando la evolucion total \n",
        "            global_time = np.append(global_time,sol.t[1:])\n",
        "            params.append(popt.copy()) #guardamos en lista los parametros del periodo\n",
        "            init_times.append(ti) #guardamos los tiempos de inicio para esos parametros\n",
        "        #setting new interval\n",
        "        ti=tf #el tiempo final ahora sera el tiempo inicial del siguiente periodo\n",
        "        tf=tf+DT #el tiempo final ahora sera el tiempo finial del periodo anterior mas DT el periodo de ajuste\n",
        "        overlap=int(DT/2) # podemos usar datos del pasado para ajustar este periodo . Regularizacion\n",
        "        y0 = sol.y[:,-overlap] # La condicion inicial para el ajuste sera al tiempo final menos el overlap en el pasado\n",
        "        y0_interval = sol.y[:,-1] # La condicion inicial para el siguiente periodo será el estado final del acutal\n",
        "        params_guess = popt.copy() # le tratamos de ayudar al algorithmo de minimos cuadrados dandole los parametros actuales\n",
        "        if (i==n_intervals-3 and final_data<overlap_f): #penultimo ajuste. Verificamos que overlap_f no se salga del rango\n",
        "            overlap_f=final_data\n",
        "\n",
        "        if (i==n_intervals-2):  #Ultimo pedazo de ajuste (no podemos usar mas datos del futuro)\n",
        "            tf=len(d1_cumulative)-1 #el tiempo final ahora sera el tiempo finial de los datos\n",
        "            overlap_f = 0 #No puede haber overlap en futuro\n",
        "\n",
        "\n",
        "    if (plot==True):\n",
        "        plt.scatter(range(0,len(d1_cumulative)), d1_cumulative)\n",
        "        plt.show()\n",
        "\n",
        "    #El resultado se regresa como un diccionario de python\n",
        "    res = {\"evolution\" : evolution, \"time\" : global_time, \"params\" : np.array(params), \"init_times\" : np.array(init_times)} \n",
        "    return res\n",
        "\n",
        "\n",
        "#En el ajuste de parametros usamos datos del pasado y futuro. Aqui solo usaremos datos del pasado\n",
        "#El mayor problema encontrado es estimar el estado inicial y0 del periodo a predecir\n",
        "#t_i : tiempo inicial de la prediccion\n",
        "#t_f : tiempo final de la prediccion\n",
        "def predict_evolution(cum_data,t_i,t_f,DT=14,*,y0=None,param_guess=None, plot=True):\n",
        "\n",
        "    if np.any(param_guess==None):\n",
        "        params_guess = [0.339909294,1.63162822e-01,3.62560733e+00,6.54907933e-01,4.49961836e-02]\n",
        "\n",
        "    if t_i < DT:\n",
        "        print(\"t_i : initial time must be greater or equal to DT past time used to estimate parameters. \")\n",
        "        return -1\n",
        "\n",
        "    def set_cumulative_part(y0): # A diferencia de la funcion pasada aqui se asigna y0 al definir cumulative part. No me gusta usar variables del \"entorno\" jeje.\n",
        "        def cumulative_part(t,beta,gamma,sigma,eta,alpha):\n",
        "            seaird = set_seaird(beta,gamma,sigma,eta,alpha,0.)\n",
        "            #sol = solve_ivp(seaird,[t[0],t[-1]],y0,t_eval=t,method='LSODA')\n",
        "            #return sol.y[6]\n",
        "            sol = odeint(seaird,y0,t,tfirst=True)\n",
        "            return sol[:,6]\n",
        "\n",
        "        return cumulative_part\n",
        "\n",
        "    if np.any(y0==None): # Si no se da un estimado del estado inicial , asumimos que es el inicio de la epidemia.\n",
        "        S0=6000000.\n",
        "        E0,A0,I0,R0,D0,C0 = 0.,0.,1.,0.,0.,1.\n",
        "        y0=[S0,E0,A0,I0,R0,D0,C0]\n",
        "        model = set_cumulative_part(y0)\n",
        "        data = cum_data[0:t_i] #Si no se da un estimado inicial ajustamos usando todos los datos hasta el timepo inicial de prediccion t_i\n",
        "        t = np.arange(0,t_i)\n",
        "        sigma = np.ones_like(t) #Le damos el mismo peso a todos los datos. Falta experimentar dar mas peso a los ultimos datos\n",
        "        #sigma[-1]=1.5\n",
        "        popt, pcov = optimize.curve_fit(model, t, data, params_guess,bounds=(0,[10,10,10,10,1.]),sigma=sigma,maxfev=1000)\n",
        "        seaird = set_seaird(*popt) #definimos el modelo con estos parametros\n",
        "        #######\n",
        "        ######## podemos graficar el ajuste junto con la prediccion #Lo triste es que la prediccion es medio pobre \n",
        "        sol = solve_ivp(seaird,[0,t_f],y0,t_eval=np.arange(0,t_f+1))\n",
        "        plt.plot(sol.t,sol.y[6])\n",
        "        plt.scatter(range(0,t_f),cum_data[0:t_f])\n",
        "        plt.xlabel('Time (Days)')\n",
        "        plt.ylabel('Cumulative Infected')\n",
        "        plt.show()\n",
        "        ######\n",
        "\n",
        "        sol = solve_ivp(seaird,[0,t_i],y0,t_eval=[t_i])\n",
        "        y0=sol.y[:,-1].copy() #guardamos la condicion final como posible condicion inicial para volver a llamar a la funcion con un estimado de y0\n",
        "        params_guess = popt\n",
        "        \n",
        "\n",
        "    model = set_cumulative_part(y0)\n",
        "    data = cum_data[t_i:t_i-DT:-1]\n",
        "    t = np.arange(t_i,t_i-DT,-1)\n",
        "    popt, pcov = optimize.curve_fit(model, t, data, params_guess,bounds=(0,[10,10,10,10,1.]),maxfev=1000)\n",
        "    seaird = set_seaird(*popt)\n",
        "    sol = solve_ivp(seaird,[t_i,t_f],y0,t_eval=range(t_i,t_f+1))\n",
        "    if (plot==True):\n",
        "        plt.plot(sol.t,sol.y[6])\n",
        "        plt.xlabel('Time (Days)')\n",
        "        plt.ylabel('Cumulative Infected')\n",
        "\n",
        "    if (plot==True):\n",
        "        plt.scatter(range(t_i,t_f), cum_data[t_i:t_f])\n",
        "        plt.scatter(range(t_i-DT,t_i), cum_data[t_i-DT:t_i])\n",
        "        plt.show()\n",
        "\n",
        "    return sol.y[:,-1], popt\n",
        "\n",
        "\n",
        "def save_model_fit(file):\n",
        "    dat,cum_data=load_data(file=file)\n",
        "    res=fit_in_parts(cum_data)\n",
        "    with open('CovidModel.npy', 'wb') as f:\n",
        "        np.save(f, np.array(res[\"params\"]))\n",
        "        np.save(f, np.array(res[\"init_times\"]))\n",
        "\n",
        "def load_seaird_params(file='CovidModel.npy'):\n",
        "    with open(file, 'rb') as f:\n",
        "        params = np.load(f)\n",
        "        init_times = np.load(f)\n",
        "        tf = init_times[-1]\n",
        "    return params , init_times\n",
        "\n",
        "def load_seaird(file='CovidModel.npy'):\n",
        "    with open(file, 'rb') as f:\n",
        "        params = np.load(f)\n",
        "        init_times = np.load(f)\n",
        "        tf = init_times[-1]\n",
        "\n",
        "\n",
        "    def seaird(t,y,u=lambda t : 0.):\n",
        "        S,E,A,I,R,D,C = y\n",
        "        N=S+E+A+I+R+D\n",
        "        mu=0.\n",
        "        beta,gamma,sigma,eta,alpha = params[init_times <= t][-1]\n",
        "\n",
        "\n",
        "        dSdt = -beta*(1.-u(t))*(S * E/N + S*A/N + eta*S*I/N)\n",
        "        dEdt = beta*(1.-u(t))*(S*E/N+ S*A/N+ eta*S*I/N)-sigma*E\n",
        "        dAdt = alpha*sigma*E-gamma*A\n",
        "        dIdt = (1.-alpha)*sigma*E - gamma * I\n",
        "        dRdt = gamma *(A+(1.-mu)*I)\n",
        "        dDdt = gamma*mu*I\n",
        "        dCdt = (1.-alpha)*sigma*E\n",
        "\n",
        "        return np.array([dSdt, dEdt, dAdt, dIdt, dRdt, dDdt, dCdt])\n",
        "\n",
        "    return seaird, tf\n",
        "\n",
        "def plot_model(Model,tf,u=lambda t: 0.):\n",
        "    S0=6000000.\n",
        "    E0,A0,I0,R0,D0,C0 = 0.,0.,1.,0.,0.,1.\n",
        "    ti=0\n",
        "    y0=[S0,E0,A0,I0,R0,D0,C0]\n",
        "    sol = solve_ivp(Model,[ti,tf],y0,t_eval=np.arange(ti,tf+1),args=(u,))\n",
        "    plt.figure(figsize=(8, 6), dpi=80)\n",
        "    plt.title(\"Susceptibles\")\n",
        "    plt.plot(sol.t,sol.y[0], label=\"S\")\n",
        "    plt.figure(figsize=(8, 6), dpi=80)\n",
        "    plt.title(\"Infected\")\n",
        "    #plt.plot(sol.t,sol.y[1], label=\"I\")\n",
        "    plt.scatter(sol.t,sol.y[1])\n",
        "    plt.figure(figsize=(8, 6), dpi=80)\n",
        "    plt.title(\"Cumulative Infected\")\n",
        "    plt.plot(sol.t,sol.y[6])\n",
        "    plt.show()\n",
        "\n",
        "\n",
        "\n",
        "#Serie de Fourier para la función de control u\n",
        "def serief(a,b,t_i,t_f,x):\n",
        "    '''Calcular la serie de Fourier de una función\n",
        "    a:coeficientes del coseno\n",
        "    b:coeficientes del seno , el ultimo coef es el termino constante\n",
        "    T:Intervalo del dominio\n",
        "    '''\n",
        "    T=t_f-t_i\n",
        "    fourier=b[-1]\n",
        "    for i, (A, B) in enumerate(zip(a,b[:-1])):\n",
        "        fourier+=A*np.cos(((i+1)*np.pi*(x-t_i))/T)+B*np.sin(((i+1)*(x-t_i)*np.pi)/T)\n",
        "    return fourier\n",
        "\n",
        "#Se define una funcion para calcular los coeficientes de un polinomio,\n",
        "#para aproximar una función.\n",
        "def eval_polynomial(P, x):\n",
        "    '''\n",
        "    Compute polynomial P(x) where P is a vector of coefficients, highest\n",
        "    order coefficient at P[0].  Uses Horner's Method.\n",
        "    '''\n",
        "    result = 0.\n",
        "    for coeff in P:\n",
        "        result = x * result + coeff\n",
        "    return result\n",
        "\n",
        "\n",
        "\n",
        "#Se define la función de control, la cual tiene como codominio el intervalo [0,1].\n",
        "#Esta función de control se usará en este caso en  variable de Infectados(Ih).\n",
        "#Aproximacion de control usando serie de fourier\n",
        "def set_control(coef,t_i,t_f,type=\"Fourier\"):\n",
        "    if (type==\"Fourier\" or type==\"fourier\"):\n",
        "        I=int(len(coef)/2)\n",
        "        a=coef[:I]\n",
        "        b=coef[I:]\n",
        "        def U(t):\n",
        "            control = serief(a,b,t_i,t_f,t)\n",
        "            if np.isscalar(control):\n",
        "                control = 0. if control < 0 else 0.9 if control>0.9 else control\n",
        "            else:\n",
        "                control[control<0]=0.\n",
        "                control[control>0.9]=0.9\n",
        "            return control\n",
        "        return U\n",
        "    elif(type==\"Polynomial\" or type==\"polynomial\" or type==\"Poly\" or type==\"poly\"):\n",
        "        def U(t):\n",
        "            T=t_f-t_i\n",
        "            control = eval_polynomial(coef,(t-t_i)/T)\n",
        "            if np.isscalar(control):\n",
        "                control = 0. if control < 0 else 0.9 if control>0.9 else control\n",
        "            else:\n",
        "                control[control<0]=0\n",
        "                control[control>0.9]=0.9\n",
        "            return control\n",
        "        return U\n",
        "\n",
        "\n",
        "def set_functional_cost(system,y0,t_i,t_f,control_type=\"Fourier\"):\n",
        "    def J(coef):\n",
        "        A1=1./sum(y0)\n",
        "        B1=1.\n",
        "        P1=1.\n",
        "        dt=0.1\n",
        "        T=t_f-t_i\n",
        "        u = set_control(coef,t_i,t_f,type=control_type)\n",
        "        t = np.linspace(t_i, t_f, int(T/dt))\n",
        "        #Ivec = odeint(system,y0,t,args=(u,),tfirst=True)[:,3]\n",
        "        sol = solve_ivp(system,[t_i,t_f],y0,t_eval=t,args=(u,))\n",
        "        I = sol.y[3]\n",
        "        L = np.power(B1*u(t),2.) + A1*I\n",
        "        return (1./2.)*L.sum()*dt + P1*I[-1]\n",
        "\n",
        "    return J\n",
        "\n",
        "\n",
        "def receding_horizon_control(system,y0,DT,total_time,control_type=\"Fourier\"):\n",
        "    intervals = int(total_time/DT)\n",
        "    dt=0.1\n",
        "    y_ini = np.array(y0)\n",
        "    y = np.empty((len(y_ini),0))\n",
        "    t_span = np.empty((0,))\n",
        "    u_span = np.empty((0,))\n",
        "    #It's not possible to apply control douring the first interval\n",
        "    t_i=0\n",
        "    t_f=DT\n",
        "    t = np.linspace(t_i, t_f, int(DT/dt))\n",
        "    sol = solve_ivp(system,[t_i,t_f],y_ini,t_eval=t)\n",
        "    y = np.append(y,sol.y, axis=1)\n",
        "    t_span = np.append(t_span,sol.t)\n",
        "    u_span = np.append(u_span,np.zeros_like(t))\n",
        "    y_ini = sol.y[:,-1]\n",
        "\n",
        "\n",
        "    for interval in range(1,intervals):\n",
        "        t_i = DT*interval\n",
        "        t_f = t_i + DT\n",
        "        J=set_functional_cost(system,y_ini,t_i,t_f,control_type=control_type)\n",
        "        a=np.zeros(3)\n",
        "        control_coef=minimize(J,a).x\n",
        "        u = set_control(control_coef,t_i,t_f,type=control_type)\n",
        "        t = np.linspace(t_i, t_f, int(DT/dt))\n",
        "        sol = solve_ivp(system,[t_i,t_f],y_ini,t_eval=t,args=(u,))\n",
        "        y = np.append(y,sol.y, axis=1)\n",
        "        t_span = np.append(t_span,sol.t)\n",
        "        u_span = np.append(u_span,u(t))\n",
        "        y_ini = sol.y[:,-1]\n",
        "\n",
        "    evolution = {\"y\" : y , \"t\" : t_span, \"u\" : u_span}\n",
        "    \n",
        "    return evolution\n",
        "\n",
        "def MPC(DT=14,control_type=\"Fourier\"):\n",
        "    \n",
        "    seaird_from_data , total_time = load_seaird()\n",
        "    _ , cum_data = load_data()\n",
        "    fit=fit_in_parts(cum_data,DT=DT,forward=True) #DT is the period length used to fit the data.\n",
        "    y_ini=fit[\"evolution\"][:,fit[\"time\"] <= DT][:,-1] #Set the initial condition for the period where we are going to calculate the control.\n",
        "\n",
        "    intervals = int(total_time/DT)\n",
        "\n",
        "    y_theory = np.empty((len(y_ini),0))\n",
        "    y_real = np.empty((len(y_ini),0))\n",
        "    t_span = np.empty((0,))\n",
        "    u_span = np.empty((0,))\n",
        "\n",
        "    for interval in range(1,intervals):\n",
        "        #We set the initial and final time for the epidemic prediction\n",
        "        t_i = DT*interval\n",
        "        t_f = t_i + DT\n",
        "        #We predict the evolution from t_i to t_f by fitting the model parameters of last period\n",
        "        #Here DT is the period lenght used to fit the data.\n",
        "        #### We can use this function or use the already fitted params ####\n",
        "        #prediction = predict_evolution(cumulative_data,t_i,t_f,DT=DT,S0=6000000., plot=False) \n",
        "        #interval_params = prediction[\"params\"]\n",
        "        #######################################\n",
        "        ## Using the already fitted params\n",
        "        interval_params = fit[\"params\"][fit[\"init_times\"] < t_i ,:][-1,:]\n",
        "        #########################\n",
        "        #We set the model with the fitted params of the last period\n",
        "        system = set_seaird(*interval_params)\n",
        "        #We define a functional cost using the model\n",
        "        #Here t_f - t_i is the period where the optimal control is calculated. This doesn't have to be the same as DT but we have set it equal.\n",
        "        J=set_functional_cost(system,y_ini,t_i,t_f,control_type=control_type)\n",
        "        #We minimize the functional cost as function of the Fourier or polinomial coefficients\n",
        "        a=np.zeros(3) #Here we set how many coeficients we want to use\n",
        "        control_coef=minimize(J,a).x #obtaining the coeficients that minimize the functional cost.\n",
        "        #We use the coeficients to define explicitly the control function that they represent\n",
        "        u = set_control(control_coef,t_i,t_f,type=control_type)\n",
        "        #We solve the theoretical system using this control function\n",
        "        t = np.linspace(t_i, t_f, DT)\n",
        "        sol = solve_ivp(system,[t_i,t_f],y_ini,t_eval=t,args=(u,))\n",
        "        #We solve the \"real system\" using this control function \n",
        "        real_sol = solve_ivp(seaird_from_data,[t_i,t_f],y_ini,t_eval=t,args=(u,))\n",
        "        #We store teoretical and real evolution for latter visualisation\n",
        "        y_theory = np.append(y_theory,sol.y, axis=1)\n",
        "        y_real = np.append(y_real,real_sol.y,axis=1)\n",
        "        t_span = np.append(t_span,sol.t)\n",
        "        u_span = np.append(u_span,u(t))\n",
        "        #We set the new initial condition form the real system. This is the correction step asuming we now know the data\n",
        "        y_ini = real_sol.y[:,-1]\n",
        "\n",
        "    evolution = {\"y_theory\" : y_theory , \"y_real\" : y_real, \"t\" : t_span, \"u\" : u_span}\n",
        "    \n",
        "    return evolution\n",
        "\n",
        "# Programs\n",
        "\n",
        "def Model_Predictive_Control():\n",
        "    evol=MPC()\n",
        "    plt.title(\"Susceptibles\")\n",
        "    plt.plot(evol[\"t\"],evol[\"y_theory\"][0], label=\"S_theory\")\n",
        "    plt.plot(evol[\"t\"],evol[\"y_real\"][0], label=\"S_real\")\n",
        "    plt.legend()\n",
        "    plt.figure()\n",
        "    plt.title(\"Infected\")\n",
        "    #plt.plot(evol[\"t\"],sol[\"y\"][1], label=\"I\")\n",
        "    plt.scatter(evol[\"t\"],evol[\"y_theory\"][1], s=1, label=\"I_theory\")\n",
        "    plt.plot(evol[\"t\"],evol[\"y_real\"][1], label=\"I_real\")\n",
        "    plt.legend()\n",
        "    plt.figure()\n",
        "    plt.title(\"Control\")\n",
        "    plt.scatter(evol[\"t\"],evol[\"u\"], s=1)\n",
        "    plt.show()\n",
        "    return\n",
        "\n",
        "\n",
        "def Receding_Horizon_Control():\n",
        "    seaird , tf = load_seaird()\n",
        "\n",
        "    S0=6000000.\n",
        "    E0,A0,I0,R0,D0,C0 = 0.,0.,1.,0.,0.,1.\n",
        "    ti=0\n",
        "    y0=[S0,E0,A0,I0,R0,D0,C0]\n",
        "\n",
        "    evol=receding_horizon_control(seaird,y0,30,tf,control_type=\"Fourier\") \n",
        "\n",
        "    plt.title(\"Susceptibles\")\n",
        "    plt.plot(evol[\"t\"],evol[\"y\"][0], label=\"S\")\n",
        "    print(evol[\"y\"][0][-1])\n",
        "    \n",
        "    plt.figure()\n",
        "    plt.title(\"Infected\")\n",
        "    #plt.plot(evol[\"t\"],sol[\"y\"][1], label=\"I\")\n",
        "    plt.scatter(evol[\"t\"],evol[\"y\"][1], s=1, label=\"I\")\n",
        "    plt.figure()\n",
        "    plt.title(\"Control\")\n",
        "    plt.scatter(evol[\"t\"],evol[\"u\"], s=1)\n",
        "    plt.show()\n",
        "\n",
        "    return\n",
        "\n",
        "def GraficarDatosyAjuste(file):\n",
        "    data,cum_data = load_data(file=file)\n",
        "    plot_data(data)\n",
        "\n",
        "    fit_in_parts(cum_data)\n",
        "    return\n",
        "\n",
        "def GuardarAjuste(data_file):\n",
        "    save_model_fit(data_file)\n",
        "    seaird , tf = load_seaird(file=data_file)\n",
        "    plot_model(seaird,tf)\n",
        "\n",
        "def Prediction():\n",
        "    data,cum_data = load_data()\n",
        "\n",
        "    t_0=110\n",
        "    t_f=140\n",
        "    pred = predict_evolution(cum_data,t_0,t_f,DT=14,S0=6000000., plot=True)\n",
        "\n",
        "    plt.plot(pred[\"prediction\"].t,pred[\"prediction\"].y[3], label=\"I\")\n",
        "    plt.legend()\n",
        "    plt.show()"
      ]
    },
    {
      "cell_type": "markdown",
      "source": [
        "Para hacer ajuste y guardarlo en disco:"
      ],
      "metadata": {
        "id": "Uk2shP87NOiQ"
      }
    },
    {
      "cell_type": "code",
      "source": [
        "save_model_fit(archivo_de_datos)"
      ],
      "metadata": {
        "id": "1bmSHyCTNSwH",
        "colab": {
          "base_uri": "https://localhost:8080/",
          "height": 743
        },
        "outputId": "21922f2f-e167-4204-d14a-5bc7c1774377"
      },
      "execution_count": null,
      "outputs": [
        {
          "output_type": "error",
          "ename": "IndexError",
          "evalue": "ignored",
          "traceback": [
            "\u001b[0;31m---------------------------------------------------------------------------\u001b[0m",
            "\u001b[0;31mIndexError\u001b[0m                                Traceback (most recent call last)",
            "\u001b[0;32m<ipython-input-11-287a7690ab36>\u001b[0m in \u001b[0;36m<cell line: 1>\u001b[0;34m()\u001b[0m\n\u001b[0;32m----> 1\u001b[0;31m \u001b[0msave_model_fit\u001b[0m\u001b[0;34m(\u001b[0m\u001b[0marchivo_de_datos\u001b[0m\u001b[0;34m)\u001b[0m\u001b[0;34m\u001b[0m\u001b[0;34m\u001b[0m\u001b[0m\n\u001b[0m",
            "\u001b[0;32m<ipython-input-9-8ffa8cabe4ea>\u001b[0m in \u001b[0;36msave_model_fit\u001b[0;34m(file)\u001b[0m\n\u001b[1;32m    189\u001b[0m \u001b[0;32mdef\u001b[0m \u001b[0msave_model_fit\u001b[0m\u001b[0;34m(\u001b[0m\u001b[0mfile\u001b[0m\u001b[0;34m)\u001b[0m\u001b[0;34m:\u001b[0m\u001b[0;34m\u001b[0m\u001b[0;34m\u001b[0m\u001b[0m\n\u001b[1;32m    190\u001b[0m     \u001b[0mdat\u001b[0m\u001b[0;34m,\u001b[0m\u001b[0mcum_data\u001b[0m\u001b[0;34m=\u001b[0m\u001b[0mload_data\u001b[0m\u001b[0;34m(\u001b[0m\u001b[0mfile\u001b[0m\u001b[0;34m=\u001b[0m\u001b[0mfile\u001b[0m\u001b[0;34m)\u001b[0m\u001b[0;34m\u001b[0m\u001b[0;34m\u001b[0m\u001b[0m\n\u001b[0;32m--> 191\u001b[0;31m     \u001b[0mres\u001b[0m\u001b[0;34m=\u001b[0m\u001b[0mfit_in_parts\u001b[0m\u001b[0;34m(\u001b[0m\u001b[0mcum_data\u001b[0m\u001b[0;34m)\u001b[0m\u001b[0;34m\u001b[0m\u001b[0;34m\u001b[0m\u001b[0m\n\u001b[0m\u001b[1;32m    192\u001b[0m     \u001b[0;32mwith\u001b[0m \u001b[0mopen\u001b[0m\u001b[0;34m(\u001b[0m\u001b[0;34m'CovidModel.npy'\u001b[0m\u001b[0;34m,\u001b[0m \u001b[0;34m'wb'\u001b[0m\u001b[0;34m)\u001b[0m \u001b[0;32mas\u001b[0m \u001b[0mf\u001b[0m\u001b[0;34m:\u001b[0m\u001b[0;34m\u001b[0m\u001b[0;34m\u001b[0m\u001b[0m\n\u001b[1;32m    193\u001b[0m         \u001b[0mnp\u001b[0m\u001b[0;34m.\u001b[0m\u001b[0msave\u001b[0m\u001b[0;34m(\u001b[0m\u001b[0mf\u001b[0m\u001b[0;34m,\u001b[0m \u001b[0mnp\u001b[0m\u001b[0;34m.\u001b[0m\u001b[0marray\u001b[0m\u001b[0;34m(\u001b[0m\u001b[0mres\u001b[0m\u001b[0;34m[\u001b[0m\u001b[0;34m\"params\"\u001b[0m\u001b[0;34m]\u001b[0m\u001b[0;34m)\u001b[0m\u001b[0;34m)\u001b[0m\u001b[0;34m\u001b[0m\u001b[0;34m\u001b[0m\u001b[0m\n",
            "\u001b[0;32m<ipython-input-9-8ffa8cabe4ea>\u001b[0m in \u001b[0;36mfit_in_parts\u001b[0;34m(cum_data, S0, plot, DT)\u001b[0m\n\u001b[1;32m     85\u001b[0m         \u001b[0msol\u001b[0m \u001b[0;34m=\u001b[0m \u001b[0msolve_ivp\u001b[0m\u001b[0;34m(\u001b[0m\u001b[0mseaird\u001b[0m\u001b[0;34m,\u001b[0m\u001b[0;34m[\u001b[0m\u001b[0mti\u001b[0m\u001b[0;34m,\u001b[0m\u001b[0mtf\u001b[0m\u001b[0;34m]\u001b[0m\u001b[0;34m,\u001b[0m\u001b[0my0_interval\u001b[0m\u001b[0;34m,\u001b[0m\u001b[0mt_eval\u001b[0m\u001b[0;34m=\u001b[0m\u001b[0mrange\u001b[0m\u001b[0;34m(\u001b[0m\u001b[0mti\u001b[0m\u001b[0;34m,\u001b[0m\u001b[0mtf\u001b[0m\u001b[0;34m+\u001b[0m\u001b[0;36m1\u001b[0m\u001b[0;34m)\u001b[0m\u001b[0;34m)\u001b[0m \u001b[0;31m#resolvemos el modelo en este intervalo de tiempo\u001b[0m\u001b[0;34m\u001b[0m\u001b[0;34m\u001b[0m\u001b[0m\n\u001b[1;32m     86\u001b[0m         \u001b[0;32mif\u001b[0m \u001b[0;34m(\u001b[0m\u001b[0mplot\u001b[0m\u001b[0;34m==\u001b[0m\u001b[0;32mTrue\u001b[0m\u001b[0;34m)\u001b[0m\u001b[0;34m:\u001b[0m\u001b[0;34m\u001b[0m\u001b[0;34m\u001b[0m\u001b[0m\n\u001b[0;32m---> 87\u001b[0;31m             \u001b[0mplt\u001b[0m\u001b[0;34m.\u001b[0m\u001b[0mplot\u001b[0m\u001b[0;34m(\u001b[0m\u001b[0msol\u001b[0m\u001b[0;34m.\u001b[0m\u001b[0mt\u001b[0m\u001b[0;34m,\u001b[0m\u001b[0msol\u001b[0m\u001b[0;34m.\u001b[0m\u001b[0my\u001b[0m\u001b[0;34m[\u001b[0m\u001b[0;36m6\u001b[0m\u001b[0;34m]\u001b[0m\u001b[0;34m)\u001b[0m \u001b[0;31m#graficamos este pedazo de tiempo\u001b[0m\u001b[0;34m\u001b[0m\u001b[0;34m\u001b[0m\u001b[0m\n\u001b[0m\u001b[1;32m     88\u001b[0m             \u001b[0mplt\u001b[0m\u001b[0;34m.\u001b[0m\u001b[0mxlabel\u001b[0m\u001b[0;34m(\u001b[0m\u001b[0;34m'Time (Days)'\u001b[0m\u001b[0;34m)\u001b[0m\u001b[0;34m\u001b[0m\u001b[0;34m\u001b[0m\u001b[0m\n\u001b[1;32m     89\u001b[0m             \u001b[0mplt\u001b[0m\u001b[0;34m.\u001b[0m\u001b[0mylabel\u001b[0m\u001b[0;34m(\u001b[0m\u001b[0;34m'Cumulative Infected'\u001b[0m\u001b[0;34m)\u001b[0m\u001b[0;34m\u001b[0m\u001b[0;34m\u001b[0m\u001b[0m\n",
            "\u001b[0;31mIndexError\u001b[0m: list index out of range"
          ]
        },
        {
          "output_type": "display_data",
          "data": {
            "text/plain": [
              "<Figure size 640x480 with 1 Axes>"
            ],
            "image/png": "[encoded data removed]"
          },
          "metadata": {}
        }
      ]
    },
    {
      "cell_type": "markdown",
      "source": [
        "Ajuste con datos hasta cierto periodo de tiempo arbitrario. Para probar el último cacho del ajuste."
      ],
      "metadata": {
        "id": "6sEmsFz__eeD"
      }
    },
    {
      "cell_type": "code",
      "source": [
        "dat,cum_data=load_data(file=archivo_de_datos)\n",
        "\n",
        "cum_data=cum_data[:110]\n",
        "\n",
        "res=fit_in_parts(cum_data)\n",
        "\n",
        "params = res[\"params\"]\n",
        "init_times = res[\"init_times\"]\n",
        "tf = init_times[-1]\n",
        "\n",
        "def seaird(t,y,u=lambda t : 0.):\n",
        "        S,E,A,I,R,D,C = y\n",
        "        N=S+E+A+I+R+D\n",
        "        mu=0.\n",
        "        beta,gamma,sigma,eta,alpha = params[init_times <= t][-1]\n",
        "\n",
        "\n",
        "        dSdt = -beta*(1.-u(t))*(S * E/N + S*A/N + eta*S*I/N)\n",
        "        dEdt = beta*(1.-u(t))*(S*E/N+ S*A/N+ eta*S*I/N)-sigma*E\n",
        "        dAdt = alpha*sigma*E-gamma*A\n",
        "        dIdt = (1.-alpha)*sigma*E - gamma * I\n",
        "        dRdt = gamma *(A+(1.-mu)*I)\n",
        "        dDdt = gamma*mu*I\n",
        "        dCdt = (1.-alpha)*sigma*E\n",
        "\n",
        "        return np.array([dSdt, dEdt, dAdt, dIdt, dRdt, dDdt, dCdt])\n",
        "\n",
        "plot_model(seaird,tf)"
      ],
      "metadata": {
        "colab": {
          "base_uri": "https://localhost:8080/",
          "height": 1000
        },
        "id": "Qn9HYPd5_d6g",
        "outputId": "dd90de65-0e72-4711-ba1a-f069a1ca0181"
      },
      "execution_count": null,
      "outputs": [
        {
          "output_type": "display_data",
          "data": {
            "text/plain": [
              "<Figure size 640x480 with 1 Axes>"
            ],
            "image/png": "[encoded data removed]"
          },
          "metadata": {}
        },
        {
          "output_type": "display_data",
          "data": {
            "text/plain": [
              "<Figure size 640x480 with 1 Axes>"
            ],
            "image/png": "[encoded data removed]"
          },
          "metadata": {}
        },
        {
          "output_type": "display_data",
          "data": {
            "text/plain": [
              "<Figure size 640x480 with 1 Axes>"
            ],
            "image/png": "[encoded data removed]"
          },
          "metadata": {}
        },
        {
          "output_type": "display_data",
          "data": {
            "text/plain": [
              "<Figure size 640x480 with 1 Axes>"
            ],
            "image/png": "[encoded data removed]"
          },
          "metadata": {}
        }
      ]
    },
    {
      "cell_type": "markdown",
      "source": [
        "Para cargar el ajuste hecho anteriormente y graficar el modelo ajustado "
      ],
      "metadata": {
        "id": "AWmeOm1sNaQ9"
      }
    },
    {
      "cell_type": "code",
      "source": [
        "seaird , tf = load_seaird()\n",
        "plot_model(seaird,tf)"
      ],
      "metadata": {
        "id": "Y6NwXMeFNN2t"
      },
      "execution_count": null,
      "outputs": []
    },
    {
      "cell_type": "markdown",
      "source": [
        "Graficar Datos :"
      ],
      "metadata": {
        "id": "TLevka2CafRZ"
      }
    },
    {
      "cell_type": "code",
      "source": [
        "data,cum_data = load_data(file=archivo_de_datos)\n",
        "plot_data(data)\n",
        "plt.plot(range(len(cum_data)),cum_data)"
      ],
      "metadata": {
        "id": "8UjKsxOwadW1"
      },
      "execution_count": null,
      "outputs": []
    },
    {
      "cell_type": "markdown",
      "source": [
        "Cambio de parametros en el tiempo:"
      ],
      "metadata": {
        "id": "0Ov-no3FfAoM"
      }
    },
    {
      "cell_type": "code",
      "source": [
        "params , init_times = load_seaird_params(file='CovidModel.npy')\n",
        "t = np.arange(0,init_times[-1]+10,1)\n",
        "parameters = np.array(list(map(lambda t : params[init_times <= t][-1], t)))\n",
        "beta = parameters[:,0]\n",
        "gamma = parameters[:,1]\n",
        "sigma = parameters[:,2]\n",
        "eta = parameters[:,3]\n",
        "alpha = parameters[:,4]\n",
        "plt.scatter(t,beta)\n",
        "plt.figure()\n",
        "plt.scatter(t,gamma)\n",
        "plt.figure()\n",
        "plt.scatter(t,sigma)\n",
        "plt.figure()\n",
        "plt.scatter(t,eta)\n",
        "plt.figure()\n",
        "plt.scatter(t,alpha)\n",
        "plt.show()"
      ],
      "metadata": {
        "id": "QHDj1HgwILHP"
      },
      "execution_count": null,
      "outputs": []
    },
    {
      "cell_type": "code",
      "source": [
        "#GraficarDatosyAjuste()\n",
        "#Model_Predictive_Control()\n",
        "#GuardarAjuste()\n",
        "data,cum_data = load_data(file=archivo_de_datos)\n",
        "#y0= [5.99868993e+06, 1.63191625e+01, 4.05191237e-03, 2.49010101e+01, 1.26984698e+03, 0.00000000e+00, 1.18612581e+03]\n",
        "y0=None\n",
        "guess=None\n",
        "DT=30\n",
        "for i in range(1,5):\n",
        "    y0,guess=predict_evolution(cum_data,i*DT,(i+1)*DT,DT=30,y0=y0,param_guess=guess, plot=True)\n",
        "    print(y0)\n",
        "    print(i*DT)"
      ],
      "metadata": {
        "id": "5BbT2l_SEBBZ"
      },
      "execution_count": null,
      "outputs": []
    },
    {
      "cell_type": "code",
      "source": [
        "#save_model_fit()\n",
        "seaird , tf = load_seaird()\n",
        "#plot_model(seaird,tf)\n",
        "\n",
        "S0=6000000.\n",
        "E0,A0,I0,R0,D0,C0 = 0.,0.,1.,0.,0.,1.\n",
        "ti=0\n",
        "y0=[S0,E0,A0,I0,R0,D0,C0]\n",
        "\n",
        "#J = set_functional_cost(seaird,y0,0.,10.,control_type=\"Fourier\")\n",
        "evol=receding_horizon_control(seaird,y0,30,tf,control_type=\"Fourier\")\n",
        "\n",
        "#t = np.linspace(ti, tf, tf)\n",
        "#evol = solve_ivp(seaird,[ti,tf],y0,t_eval=t, args=(lambda t : 0.5,))\n",
        "#sol = odeint(seaird,y0,t,args=(lambda t : 0.05,),tfirst=True)\n",
        "#y = np.transpose(sol)\n",
        "#evol = {\"y\":y,\"t\":t}\n",
        "\n",
        "plt.title(\"Susceptibles\")\n",
        "plt.plot(evol[\"t\"],evol[\"y\"][0], label=\"S\")\n",
        "print(evol[\"y\"][0][-1])\n",
        "    \n",
        "plt.figure()\n",
        "plt.title(\"Infected\")\n",
        "#plt.plot(evol[\"t\"],sol[\"y\"][1], label=\"I\")\n",
        "plt.scatter(evol[\"t\"],evol[\"y\"][1], s=1, label=\"I\")\n",
        "plt.figure()\n",
        "plt.title(\"Control\")\n",
        "plt.scatter(evol[\"t\"],evol[\"u\"], s=1)\n",
        "plt.show()\n",
        "\n",
        "\n",
        "#plot data\n",
        "#data,cum_data = load_data()\n",
        "#plot_data(data)\n",
        "\n",
        "#fit_in_parts(cum_data)"
      ],
      "metadata": {
        "id": "5UPtRLvFJpOP"
      },
      "execution_count": null,
      "outputs": []
    },
    {
      "cell_type": "code",
      "source": [],
      "metadata": {
        "id": "t5ZLF5oVep3f"
      },
      "execution_count": null,
      "outputs": []
    }
  ]
}